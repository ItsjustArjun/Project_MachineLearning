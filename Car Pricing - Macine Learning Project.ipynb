{
 "cells": [
  {
   "cell_type": "markdown",
   "id": "93f3ace1-6e15-4559-8967-913f9df1d401",
   "metadata": {},
   "source": [
    "# *Machine Learning Project - Car Pricing*"
   ]
  },
  {
   "cell_type": "markdown",
   "id": "92830a8c-e69f-4e2d-a1ed-4725fd0dd33a",
   "metadata": {},
   "source": [
    "## ***1. Loading and Preprocessing***"
   ]
  },
  {
   "cell_type": "code",
   "execution_count": 176,
   "id": "418a2f44-eeeb-45af-bf2f-c468932a13da",
   "metadata": {},
   "outputs": [
    {
     "data": {
      "text/html": [
       "<div>\n",
       "<style scoped>\n",
       "    .dataframe tbody tr th:only-of-type {\n",
       "        vertical-align: middle;\n",
       "    }\n",
       "\n",
       "    .dataframe tbody tr th {\n",
       "        vertical-align: top;\n",
       "    }\n",
       "\n",
       "    .dataframe thead th {\n",
       "        text-align: right;\n",
       "    }\n",
       "</style>\n",
       "<table border=\"1\" class=\"dataframe\">\n",
       "  <thead>\n",
       "    <tr style=\"text-align: right;\">\n",
       "      <th></th>\n",
       "      <th>car_ID</th>\n",
       "      <th>symboling</th>\n",
       "      <th>CarName</th>\n",
       "      <th>fueltype</th>\n",
       "      <th>aspiration</th>\n",
       "      <th>doornumber</th>\n",
       "      <th>carbody</th>\n",
       "      <th>drivewheel</th>\n",
       "      <th>enginelocation</th>\n",
       "      <th>wheelbase</th>\n",
       "      <th>...</th>\n",
       "      <th>enginesize</th>\n",
       "      <th>fuelsystem</th>\n",
       "      <th>boreratio</th>\n",
       "      <th>stroke</th>\n",
       "      <th>compressionratio</th>\n",
       "      <th>horsepower</th>\n",
       "      <th>peakrpm</th>\n",
       "      <th>citympg</th>\n",
       "      <th>highwaympg</th>\n",
       "      <th>price</th>\n",
       "    </tr>\n",
       "  </thead>\n",
       "  <tbody>\n",
       "    <tr>\n",
       "      <th>0</th>\n",
       "      <td>1</td>\n",
       "      <td>3</td>\n",
       "      <td>alfa-romero giulia</td>\n",
       "      <td>gas</td>\n",
       "      <td>std</td>\n",
       "      <td>two</td>\n",
       "      <td>convertible</td>\n",
       "      <td>rwd</td>\n",
       "      <td>front</td>\n",
       "      <td>88.6</td>\n",
       "      <td>...</td>\n",
       "      <td>130</td>\n",
       "      <td>mpfi</td>\n",
       "      <td>3.47</td>\n",
       "      <td>2.68</td>\n",
       "      <td>9.0</td>\n",
       "      <td>111</td>\n",
       "      <td>5000</td>\n",
       "      <td>21</td>\n",
       "      <td>27</td>\n",
       "      <td>13495.0</td>\n",
       "    </tr>\n",
       "    <tr>\n",
       "      <th>1</th>\n",
       "      <td>2</td>\n",
       "      <td>3</td>\n",
       "      <td>alfa-romero stelvio</td>\n",
       "      <td>gas</td>\n",
       "      <td>std</td>\n",
       "      <td>two</td>\n",
       "      <td>convertible</td>\n",
       "      <td>rwd</td>\n",
       "      <td>front</td>\n",
       "      <td>88.6</td>\n",
       "      <td>...</td>\n",
       "      <td>130</td>\n",
       "      <td>mpfi</td>\n",
       "      <td>3.47</td>\n",
       "      <td>2.68</td>\n",
       "      <td>9.0</td>\n",
       "      <td>111</td>\n",
       "      <td>5000</td>\n",
       "      <td>21</td>\n",
       "      <td>27</td>\n",
       "      <td>16500.0</td>\n",
       "    </tr>\n",
       "    <tr>\n",
       "      <th>2</th>\n",
       "      <td>3</td>\n",
       "      <td>1</td>\n",
       "      <td>alfa-romero Quadrifoglio</td>\n",
       "      <td>gas</td>\n",
       "      <td>std</td>\n",
       "      <td>two</td>\n",
       "      <td>hatchback</td>\n",
       "      <td>rwd</td>\n",
       "      <td>front</td>\n",
       "      <td>94.5</td>\n",
       "      <td>...</td>\n",
       "      <td>152</td>\n",
       "      <td>mpfi</td>\n",
       "      <td>2.68</td>\n",
       "      <td>3.47</td>\n",
       "      <td>9.0</td>\n",
       "      <td>154</td>\n",
       "      <td>5000</td>\n",
       "      <td>19</td>\n",
       "      <td>26</td>\n",
       "      <td>16500.0</td>\n",
       "    </tr>\n",
       "    <tr>\n",
       "      <th>3</th>\n",
       "      <td>4</td>\n",
       "      <td>2</td>\n",
       "      <td>audi 100 ls</td>\n",
       "      <td>gas</td>\n",
       "      <td>std</td>\n",
       "      <td>four</td>\n",
       "      <td>sedan</td>\n",
       "      <td>fwd</td>\n",
       "      <td>front</td>\n",
       "      <td>99.8</td>\n",
       "      <td>...</td>\n",
       "      <td>109</td>\n",
       "      <td>mpfi</td>\n",
       "      <td>3.19</td>\n",
       "      <td>3.40</td>\n",
       "      <td>10.0</td>\n",
       "      <td>102</td>\n",
       "      <td>5500</td>\n",
       "      <td>24</td>\n",
       "      <td>30</td>\n",
       "      <td>13950.0</td>\n",
       "    </tr>\n",
       "    <tr>\n",
       "      <th>4</th>\n",
       "      <td>5</td>\n",
       "      <td>2</td>\n",
       "      <td>audi 100ls</td>\n",
       "      <td>gas</td>\n",
       "      <td>std</td>\n",
       "      <td>four</td>\n",
       "      <td>sedan</td>\n",
       "      <td>4wd</td>\n",
       "      <td>front</td>\n",
       "      <td>99.4</td>\n",
       "      <td>...</td>\n",
       "      <td>136</td>\n",
       "      <td>mpfi</td>\n",
       "      <td>3.19</td>\n",
       "      <td>3.40</td>\n",
       "      <td>8.0</td>\n",
       "      <td>115</td>\n",
       "      <td>5500</td>\n",
       "      <td>18</td>\n",
       "      <td>22</td>\n",
       "      <td>17450.0</td>\n",
       "    </tr>\n",
       "  </tbody>\n",
       "</table>\n",
       "<p>5 rows × 26 columns</p>\n",
       "</div>"
      ],
      "text/plain": [
       "   car_ID  symboling                   CarName fueltype aspiration doornumber  \\\n",
       "0       1          3        alfa-romero giulia      gas        std        two   \n",
       "1       2          3       alfa-romero stelvio      gas        std        two   \n",
       "2       3          1  alfa-romero Quadrifoglio      gas        std        two   \n",
       "3       4          2               audi 100 ls      gas        std       four   \n",
       "4       5          2                audi 100ls      gas        std       four   \n",
       "\n",
       "       carbody drivewheel enginelocation  wheelbase  ...  enginesize  \\\n",
       "0  convertible        rwd          front       88.6  ...         130   \n",
       "1  convertible        rwd          front       88.6  ...         130   \n",
       "2    hatchback        rwd          front       94.5  ...         152   \n",
       "3        sedan        fwd          front       99.8  ...         109   \n",
       "4        sedan        4wd          front       99.4  ...         136   \n",
       "\n",
       "   fuelsystem  boreratio  stroke compressionratio horsepower  peakrpm citympg  \\\n",
       "0        mpfi       3.47    2.68              9.0        111     5000      21   \n",
       "1        mpfi       3.47    2.68              9.0        111     5000      21   \n",
       "2        mpfi       2.68    3.47              9.0        154     5000      19   \n",
       "3        mpfi       3.19    3.40             10.0        102     5500      24   \n",
       "4        mpfi       3.19    3.40              8.0        115     5500      18   \n",
       "\n",
       "   highwaympg    price  \n",
       "0          27  13495.0  \n",
       "1          27  16500.0  \n",
       "2          26  16500.0  \n",
       "3          30  13950.0  \n",
       "4          22  17450.0  \n",
       "\n",
       "[5 rows x 26 columns]"
      ]
     },
     "metadata": {},
     "output_type": "display_data"
    },
    {
     "name": "stdout",
     "output_type": "stream",
     "text": [
      "<class 'pandas.core.frame.DataFrame'>\n",
      "RangeIndex: 205 entries, 0 to 204\n",
      "Data columns (total 26 columns):\n",
      " #   Column            Non-Null Count  Dtype  \n",
      "---  ------            --------------  -----  \n",
      " 0   car_ID            205 non-null    int64  \n",
      " 1   symboling         205 non-null    int64  \n",
      " 2   CarName           205 non-null    object \n",
      " 3   fueltype          205 non-null    object \n",
      " 4   aspiration        205 non-null    object \n",
      " 5   doornumber        205 non-null    object \n",
      " 6   carbody           205 non-null    object \n",
      " 7   drivewheel        205 non-null    object \n",
      " 8   enginelocation    205 non-null    object \n",
      " 9   wheelbase         205 non-null    float64\n",
      " 10  carlength         205 non-null    float64\n",
      " 11  carwidth          205 non-null    float64\n",
      " 12  carheight         205 non-null    float64\n",
      " 13  curbweight        205 non-null    int64  \n",
      " 14  enginetype        205 non-null    object \n",
      " 15  cylindernumber    205 non-null    object \n",
      " 16  enginesize        205 non-null    int64  \n",
      " 17  fuelsystem        205 non-null    object \n",
      " 18  boreratio         205 non-null    float64\n",
      " 19  stroke            205 non-null    float64\n",
      " 20  compressionratio  205 non-null    float64\n",
      " 21  horsepower        205 non-null    int64  \n",
      " 22  peakrpm           205 non-null    int64  \n",
      " 23  citympg           205 non-null    int64  \n",
      " 24  highwaympg        205 non-null    int64  \n",
      " 25  price             205 non-null    float64\n",
      "dtypes: float64(8), int64(8), object(10)\n",
      "memory usage: 41.8+ KB\n",
      "None\n",
      "           car_ID   symboling   wheelbase   carlength    carwidth   carheight  \\\n",
      "count  205.000000  205.000000  205.000000  205.000000  205.000000  205.000000   \n",
      "mean   103.000000    0.834146   98.756585  174.049268   65.907805   53.724878   \n",
      "std     59.322565    1.245307    6.021776   12.337289    2.145204    2.443522   \n",
      "min      1.000000   -2.000000   86.600000  141.100000   60.300000   47.800000   \n",
      "25%     52.000000    0.000000   94.500000  166.300000   64.100000   52.000000   \n",
      "50%    103.000000    1.000000   97.000000  173.200000   65.500000   54.100000   \n",
      "75%    154.000000    2.000000  102.400000  183.100000   66.900000   55.500000   \n",
      "max    205.000000    3.000000  120.900000  208.100000   72.300000   59.800000   \n",
      "\n",
      "        curbweight  enginesize   boreratio      stroke  compressionratio  \\\n",
      "count   205.000000  205.000000  205.000000  205.000000        205.000000   \n",
      "mean   2555.565854  126.907317    3.329756    3.255415         10.142537   \n",
      "std     520.680204   41.642693    0.270844    0.313597          3.972040   \n",
      "min    1488.000000   61.000000    2.540000    2.070000          7.000000   \n",
      "25%    2145.000000   97.000000    3.150000    3.110000          8.600000   \n",
      "50%    2414.000000  120.000000    3.310000    3.290000          9.000000   \n",
      "75%    2935.000000  141.000000    3.580000    3.410000          9.400000   \n",
      "max    4066.000000  326.000000    3.940000    4.170000         23.000000   \n",
      "\n",
      "       horsepower      peakrpm     citympg  highwaympg         price  \n",
      "count  205.000000   205.000000  205.000000  205.000000    205.000000  \n",
      "mean   104.117073  5125.121951   25.219512   30.751220  13276.710571  \n",
      "std     39.544167   476.985643    6.542142    6.886443   7988.852332  \n",
      "min     48.000000  4150.000000   13.000000   16.000000   5118.000000  \n",
      "25%     70.000000  4800.000000   19.000000   25.000000   7788.000000  \n",
      "50%     95.000000  5200.000000   24.000000   30.000000  10295.000000  \n",
      "75%    116.000000  5500.000000   30.000000   34.000000  16503.000000  \n",
      "max    288.000000  6600.000000   49.000000   54.000000  45400.000000  \n"
     ]
    }
   ],
   "source": [
    "import pandas as pd\n",
    "import numpy as np\n",
    "import matplotlib.pyplot as plt\n",
    "import seaborn as sns\n",
    "from sklearn.model_selection import train_test_split, GridSearchCV\n",
    "from sklearn.preprocessing import StandardScaler, OneHotEncoder\n",
    "from sklearn.linear_model import LinearRegression\n",
    "from sklearn.tree import DecisionTreeRegressor\n",
    "from sklearn.ensemble import RandomForestRegressor, GradientBoostingRegressor\n",
    "from sklearn.svm import SVR\n",
    "from sklearn.metrics import mean_absolute_error, mean_squared_error, r2_score\n",
    "\n",
    "# Step 1: Load Dataset\n",
    "df = pd.read_csv(r\"C:\\Users\\HP\\Downloads\\Machine Learning\\Project\\CarPrice_Assignment.csv\")\n",
    "display(df.head())\n",
    "print(df.info())\n",
    "print(df.describe())"
   ]
  },
  {
   "cell_type": "code",
   "execution_count": 177,
   "id": "d6fe6c6d-c1d3-4278-ad36-8ba6d95b8b7b",
   "metadata": {},
   "outputs": [],
   "source": [
    "# Data Preprocessing\n",
    "# Handling missing values\n",
    "df.dropna(inplace=True)  \n",
    "\n",
    "# Encoding categorical variables\n",
    "categorical_cols = df.select_dtypes(include=['object']).columns\n",
    "\n",
    "if len(categorical_cols) > 0:\n",
    "    ohe = OneHotEncoder(drop='first', sparse_output=False, handle_unknown='ignore')\n",
    "    categorical_encoded = pd.DataFrame(ohe.fit_transform(df[categorical_cols]), \n",
    "                                       columns=ohe.get_feature_names_out(categorical_cols),\n",
    "                                       index=df.index)\n",
    "\n",
    "    df = df.drop(columns=categorical_cols).reset_index(drop=True)\n",
    "    df = pd.concat([df, categorical_encoded], axis=1)\n",
    "\n",
    "# Spliting dataset into training and testing sets\n",
    "X = df.drop(columns=['price'])  \n",
    "y = df['price']\n",
    "X_train, X_test, y_train, y_test = train_test_split(X, y, test_size=0.2, random_state=42)\n",
    "\n",
    "# Feature scaling\n",
    "scaler = StandardScaler()\n",
    "X_train = scaler.fit_transform(X_train)\n",
    "X_test = scaler.transform(X_test)"
   ]
  },
  {
   "cell_type": "markdown",
   "id": "2522ec79-b30d-40ba-9005-2e05c989b0a7",
   "metadata": {},
   "source": [
    "## ***2. Model Implementation***"
   ]
  },
  {
   "cell_type": "code",
   "execution_count": 179,
   "id": "c85b466b-4e34-4ffb-9f8c-20fd8fa46a5c",
   "metadata": {},
   "outputs": [],
   "source": [
    "# Step 2: Model Implementation\n",
    "models = {\n",
    "    \"Linear Regression\": LinearRegression(),\n",
    "    \"Decision Tree Regressor\": DecisionTreeRegressor(random_state=42),\n",
    "    \"Random Forest Regressor\": RandomForestRegressor(n_estimators=100, random_state=42),\n",
    "    \"Gradient Boosting Regressor\": GradientBoostingRegressor(n_estimators=100, random_state=42),\n",
    "    \"Support Vector Regressor\": SVR()\n",
    "}\n"
   ]
  },
  {
   "cell_type": "markdown",
   "id": "9ca961a4-2391-41cf-8bd5-cad44d3bb692",
   "metadata": {},
   "source": [
    "## ***3. Model Evaluation***"
   ]
  },
  {
   "cell_type": "code",
   "execution_count": 181,
   "id": "a8abe255-898b-4e1e-9976-916434d9aec1",
   "metadata": {},
   "outputs": [
    {
     "name": "stdout",
     "output_type": "stream",
     "text": [
      "                             R² Score          MAE           MSE\n",
      "Linear Regression           -1.237488  7645.316908  1.766363e+08\n",
      "Decision Tree Regressor      0.866580  2098.308951  1.053268e+07\n",
      "Random Forest Regressor      0.953739  1378.892512  3.652007e+06\n",
      "Gradient Boosting Regressor  0.931561  1685.616428  5.402849e+06\n",
      "Support Vector Regressor    -0.101717  5705.060992  8.697400e+07\n"
     ]
    }
   ],
   "source": [
    "# Step 3: Model Evaluation\n",
    "results = {}\n",
    "for name, model in models.items():\n",
    "    model.fit(X_train, y_train)\n",
    "    y_pred = model.predict(X_test)\n",
    "    results[name] = {\n",
    "        \"R² Score\": r2_score(y_test, y_pred),\n",
    "        \"MAE\": mean_absolute_error(y_test, y_pred),\n",
    "        \"MSE\": mean_squared_error(y_test, y_pred)\n",
    "    }\n",
    "\n",
    "eval_df = pd.DataFrame(results).T\n",
    "print(eval_df)\n",
    "\n"
   ]
  },
  {
   "cell_type": "code",
   "execution_count": 182,
   "id": "e6e3ea90-8a13-4493-a7ef-bd65a935b6c0",
   "metadata": {},
   "outputs": [
    {
     "name": "stdout",
     "output_type": "stream",
     "text": [
      "Best performing model: Random Forest Regressor\n"
     ]
    }
   ],
   "source": [
    "# Identifying the best-performing model\n",
    "best_model = eval_df.sort_values(by=\"R² Score\", ascending=False).index[0]\n",
    "print(f\"Best performing model: {best_model}\")\n"
   ]
  },
  {
   "cell_type": "code",
   "execution_count": 183,
   "id": "bb2673f5-9adf-4844-83fb-0ae9e5a1b7bc",
   "metadata": {},
   "outputs": [
    {
     "name": "stdout",
     "output_type": "stream",
     "text": [
      "The best model is Random Forest Regressor because it has the highest R² Score, meaning it explains the most variance in car prices. Additionally, it has the lowest Mean Absolute Error (MAE) and Mean Squared Error (MSE), indicating that its predictions are more accurate and have fewer large deviations compared to other models.\n"
     ]
    }
   ],
   "source": [
    "# Justification for best model\n",
    "print(f\"The best model is {best_model} because it has the highest R² Score, meaning it explains the most variance in car prices. Additionally, it has the lowest Mean Absolute Error (MAE) and Mean Squared Error (MSE), indicating that its predictions are more accurate and have fewer large deviations compared to other models.\")"
   ]
  },
  {
   "cell_type": "markdown",
   "id": "d14247cb-799c-4fae-b411-bf5d7e7db58e",
   "metadata": {},
   "source": [
    "## ***4. Feature Importance Analysis***"
   ]
  },
  {
   "cell_type": "code",
   "execution_count": 185,
   "id": "bfe1422a-b08b-4267-9e4a-e1beb0776430",
   "metadata": {},
   "outputs": [
    {
     "name": "stdout",
     "output_type": "stream",
     "text": [
      "Top 10 Significant Features Affecting Car Prices:\n",
      "       Feature  Importance\n",
      "7   enginesize    0.549018\n",
      "6   curbweight    0.293698\n",
      "14  highwaympg    0.041858\n",
      "11  horsepower    0.028179\n",
      "0       car_ID    0.019694\n",
      "4     carwidth    0.011678\n",
      "2    wheelbase    0.006137\n",
      "3    carlength    0.005977\n",
      "12     peakrpm    0.004968\n",
      "13     citympg    0.004326\n"
     ]
    },
    {
     "data": {
      "image/png": "[encoded data removed]",
      "text/plain": [
       "<Figure size 1000x500 with 1 Axes>"
      ]
     },
     "metadata": {},
     "output_type": "display_data"
    }
   ],
   "source": [
    "# Step 4: Feature Importance Analysis\n",
    "if best_model in [\"Random Forest Regressor\", \"Gradient Boosting Regressor\"]:\n",
    "    model = models[best_model]\n",
    "    importance = model.feature_importances_\n",
    "    feature_importance = pd.DataFrame({'Feature': X.columns, 'Importance': importance})\n",
    "    feature_importance = feature_importance.sort_values(by='Importance', ascending=False)\n",
    "    \n",
    "    # Selecting top 10 features for better visualization\n",
    "    top_features = feature_importance.head(10)\n",
    "    \n",
    "    \n",
    "    print(\"Top 10 Significant Features Affecting Car Prices:\")\n",
    "    print(top_features)\n",
    "    \n",
    "    # To Feature importance\n",
    "    plt.figure(figsize=(10, 5))\n",
    "    sns.barplot(x=top_features['Importance'], y=top_features['Feature'])\n",
    "    plt.title(\"Top 10 Feature Importance\")\n",
    "    plt.xlabel(\"Importance Score\")\n",
    "    plt.ylabel(\"Feature\")\n",
    "    plt.show()"
   ]
  },
  {
   "cell_type": "markdown",
   "id": "c335a221-939b-4cdc-a2a6-a979b33c2d30",
   "metadata": {},
   "source": [
    "## ***5. Hyperparameter Tuning***"
   ]
  },
  {
   "cell_type": "code",
   "execution_count": 187,
   "id": "fbc46118-cd04-462a-bb7f-b541205ce45a",
   "metadata": {},
   "outputs": [
    {
     "name": "stdout",
     "output_type": "stream",
     "text": [
      "Best parameters for Random Forest Regressor: {'max_depth': 10, 'n_estimators': 100}\n",
      "Performance after Hyperparameter Tuning:\n",
      "R² Score: 0.9528\n",
      "MAE: 1380.4867\n",
      "RMSE: 1929.3937\n"
     ]
    }
   ],
   "source": [
    "# Step 5: Hyperparameter Tuning\n",
    "param_grid = {\n",
    "    \"Random Forest Regressor\": {\"n_estimators\": [50, 100, 200], \"max_depth\": [None, 10, 20]},\n",
    "    \"Gradient Boosting Regressor\": {\"n_estimators\": [50, 100, 200], \"learning_rate\": [0.01, 0.1, 0.2]},\n",
    "    \"Support Vector Regressor\": {\"C\": [0.1, 1, 10], \"kernel\": ['linear', 'rbf']}\n",
    "}\n",
    "\n",
    "if best_model in param_grid:\n",
    "    grid_search = GridSearchCV(models[best_model], param_grid[best_model], cv=5, scoring='r2', n_jobs=-1)\n",
    "    grid_search.fit(X_train, y_train)\n",
    "    print(f\"Best parameters for {best_model}: {grid_search.best_params_}\")\n",
    "    best_model_tuned = grid_search.best_estimator_\n",
    "    \n",
    "    # Evaluating tuned model\n",
    "    y_pred_tuned = best_model_tuned.predict(X_test)\n",
    "    print(\"Performance after Hyperparameter Tuning:\")\n",
    "    print(f\"R² Score: {r2_score(y_test, y_pred_tuned):.4f}\")\n",
    "    print(f\"MAE: {mean_absolute_error(y_test, y_pred_tuned):.4f}\")\n",
    "    print(f\"RMSE: {np.sqrt(mean_squared_error(y_test, y_pred_tuned)):.4f}\")"
   ]
  },
  {
   "cell_type": "code",
   "execution_count": null,
   "id": "e89638e9-6e72-456d-a824-e78e583970e0",
   "metadata": {},
   "outputs": [],
   "source": []
  }
 ],
 "metadata": {
  "kernelspec": {
   "display_name": "Python 3 (ipykernel)",
   "language": "python",
   "name": "python3"
  },
  "language_info": {
   "codemirror_mode": {
    "name": "ipython",
    "version": 3
   },
   "file_extension": ".py",
   "mimetype": "text/x-python",
   "name": "python",
   "nbconvert_exporter": "python",
   "pygments_lexer": "ipython3",
   "version": "3.12.4"
  }
 },
 "nbformat": 4,
 "nbformat_minor": 5
}
