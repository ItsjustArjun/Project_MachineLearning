{
 "cells": [
  {
   "cell_type": "markdown",
   "id": "d0545aca-be56-4649-9088-a807e365d0c4",
   "metadata": {},
   "source": [
    "# *Machine Learning Project*"
   ]
  },
  {
   "cell_type": "markdown",
   "id": "199dad63-c0f4-43c6-9913-abe3a596dc85",
   "metadata": {},
   "source": [
    "## *Business Goal:*\n",
    "\n",
    "#### You are required to model the price of cars with the available independent variables. It will be used by the management to understand how exactly the prices vary with the independent variables. They can accordingly manipulate the design of the cars, the business strategy etc. to meet certain price levels. Further, the model will be a good way for the management to understand the pricing dynamics of a new market\n"
   ]
  },
  {
   "cell_type": "markdown",
   "id": "c0384154-b97e-48e1-96a3-1fccaa90921e",
   "metadata": {},
   "source": [
    "### 1. **Loading and Preprocessing**"
   ]
  },
  {
   "cell_type": "markdown",
   "id": "078bf925-46d0-4929-897f-f5b71995542f",
   "metadata": {},
   "source": [
    "#### ● *Load the dataset and perform necessary preprocessing steps.*"
   ]
  },
  {
   "cell_type": "code",
   "execution_count": 13,
   "id": "62a05c91-ff1a-4eeb-bd32-132b1fe0b7d4",
   "metadata": {},
   "outputs": [],
   "source": [
    "import pandas as pd\n",
    "from sklearn.model_selection import train_test_split\n",
    "\n",
    "# Load the dataset\n",
    "df = pd.read_csv(r'C:\\Users\\HP\\Downloads\\Machine Learning\\Project\\CarPrice_Assignment.csv')\n",
    "\n",
    "# Drop unnecessary columns\n",
    "X = df.drop(columns=['price', 'car_ID', 'CarName'])\n",
    "y = df['price']\n",
    "\n",
    "# Convert categorical variables into dummy/indicator variables\n",
    "X = pd.get_dummies(X, drop_first=True)\n",
    "\n",
    "# Split the data into training and testing sets\n",
    "X_train, X_test, y_train, y_test = train_test_split(X, y, test_size=0.2, random_state=42)"
   ]
  },
  {
   "cell_type": "markdown",
   "id": "b568e46a-90a8-483f-9cfa-243d417030d4",
   "metadata": {},
   "source": [
    "### 2. **Model Implementation**"
   ]
  },
  {
   "cell_type": "markdown",
   "id": "94ff54f3-77e9-4ac6-9509-dc06630d67da",
   "metadata": {},
   "source": [
    "#### ● *Implement the following five regression algorithms:*\n",
    "\n",
    "1) Linear Regression\n",
    "2) Decision Tree Regressor\n",
    "3) Random Forest Regressor\n",
    "4) Gradient Boosting Regressor\n",
    "5) Support Vector Regressor\n"
   ]
  },
  {
   "cell_type": "code",
   "execution_count": 21,
   "id": "db5df50f-788d-4c99-bbb1-284a54335fc8",
   "metadata": {},
   "outputs": [],
   "source": [
    "from sklearn.linear_model import LinearRegression\n",
    "from sklearn.tree import DecisionTreeRegressor\n",
    "from sklearn.ensemble import RandomForestRegressor, GradientBoostingRegressor\n",
    "from sklearn.svm import SVR\n",
    "\n",
    "# Define the models\n",
    "models = {\n",
    "    'Linear Regression': LinearRegression(),\n",
    "    'Decision Tree Regressor': DecisionTreeRegressor(random_state=42),\n",
    "    'Random Forest Regressor': RandomForestRegressor(random_state=42),\n",
    "    'Gradient Boosting Regressor': GradientBoostingRegressor(random_state=42),\n",
    "    'Support Vector Regressor': SVR()\n",
    "}\n",
    "\n",
    "# Train the models\n",
    "for name, model in models.items():\n",
    "    model.fit(X_train, y_train)"
   ]
  },
  {
   "cell_type": "markdown",
   "id": "30c83a1b-edb5-44c5-8347-50c8d7011ab2",
   "metadata": {},
   "source": [
    "### 3. **Model Evaluation**"
   ]
  },
  {
   "cell_type": "markdown",
   "id": "a887c364-b67d-43f5-908b-9335219146ad",
   "metadata": {},
   "source": [
    "● *Compare the performance of all the models based on R-squared, Mean Squared Error (MSE), and Mean Absolute Error (MAE).*\n",
    "\n",
    "● *Identify the best performing model and justify why it is the best.*"
   ]
  },
  {
   "cell_type": "code",
   "execution_count": 44,
   "id": "62e00758-52e0-4dac-8ae5-46666467aab1",
   "metadata": {},
   "outputs": [
    {
     "name": "stdout",
     "output_type": "stream",
     "text": [
      "Linear Regression - MSE: 8482008.484371832, R-squared: 0.8925566700320242, MAE: 2089.382729204749\n",
      "Decision Tree Regressor - MSE: 8300272.356143635, R-squared: 0.8948587586031806, MAE: 1886.3211463414634\n",
      "Random Forest Regressor - MSE: 3314701.736754924, R-squared: 0.9580119976178074, MAE: 1261.4174512195123\n",
      "Gradient Boosting Regressor - MSE: 5912585.344424135, R-squared: 0.9251040765527097, MAE: 1683.9518920721596\n",
      "Support Vector Regressor - MSE: 86994157.1156621, R-squared: -0.10197271618931159, MAE: 5707.106445656011\n",
      "\n",
      "Best Performing Model: Random Forest Regressor\n"
     ]
    }
   ],
   "source": [
    "from sklearn.metrics import mean_squared_error, r2_score, mean_absolute_error\n",
    "\n",
    "# Define a function to evaluate models\n",
    "def evaluate_model(model, X_test, y_test):\n",
    "    y_pred = model.predict(X_test)\n",
    "    mse = mean_squared_error(y_test, y_pred)\n",
    "    r2 = r2_score(y_test, y_pred)\n",
    "    mae = mean_absolute_error(y_test, y_pred)\n",
    "    return mse, r2, mae\n",
    "\n",
    "# Evaluate each model\n",
    "results = {}\n",
    "for name, model in models.items():\n",
    "    mse, r2, mae = evaluate_model(model, X_test, y_test)\n",
    "    results[name] = {'MSE': mse, 'R-squared': r2, 'MAE': mae}\n",
    "\n",
    "# Print the performance of all models\n",
    "for name, metrics in results.items():\n",
    "    print(f\"{name} - MSE: {metrics['MSE']}, R-squared: {metrics['R-squared']}, MAE: {metrics['MAE']}\")\n",
    "\n",
    "# Identify the best performing model based on R-squared value\n",
    "best_model_name = max(results, key =lambda x: results[x]['R-squared'])\n",
    "print(f\"\\nBest Performing Model: {best_model_name}\")"
   ]
  },
  {
   "cell_type": "markdown",
   "id": "3b5b72b4-18b7-4cc7-a74c-824cd8dbccf4",
   "metadata": {},
   "source": [
    "### 4. **Feature Importance Analysis**"
   ]
  },
  {
   "cell_type": "markdown",
   "id": "eaa5f62f-2310-4b65-8d5f-b023aa1449a9",
   "metadata": {},
   "source": [
    "● *Identify the significant variables affecting car prices (feature selection)*"
   ]
  },
  {
   "cell_type": "code",
   "execution_count": 31,
   "id": "ce4e9e1e-d7d2-4f77-9327-100b1f70c5b9",
   "metadata": {},
   "outputs": [
    {
     "name": "stdout",
     "output_type": "stream",
     "text": [
      "\n",
      "Feature Importance Analysis:\n",
      "                  Feature    Importance\n",
      "6              enginesize  5.444410e-01\n",
      "5              curbweight  2.994207e-01\n",
      "13             highwaympg  4.569430e-02\n",
      "10             horsepower  3.551141e-02\n",
      "3                carwidth  1.353314e-02\n",
      "2               carlength  9.019221e-03\n",
      "1               wheelbase  7.540727e-03\n",
      "11                peakrpm  6.794992e-03\n",
      "12                citympg  6.493206e-03\n",
      "8                  stroke  4.912611e-03\n",
      "7               boreratio  4.652634e-03\n",
      "9        compressionratio  4.016081e-03\n",
      "4               carheight  3.833689e-03\n",
      "40        fuelsystem_mpfi  2.058066e-03\n",
      "31    cylindernumber_four  1.733749e-03\n",
      "19          carbody_sedan  1.354308e-03\n",
      "18      carbody_hatchback  1.237313e-03\n",
      "15       aspiration_turbo  1.132112e-03\n",
      "0               symboling  9.572643e-04\n",
      "26         enginetype_ohc  9.515885e-04\n",
      "22         drivewheel_rwd  8.707071e-04\n",
      "17        carbody_hardtop  6.209014e-04\n",
      "32     cylindernumber_six  4.771876e-04\n",
      "16         doornumber_two  4.727216e-04\n",
      "21         drivewheel_fwd  4.521705e-04\n",
      "36        fuelsystem_2bbl  4.043796e-04\n",
      "20          carbody_wagon  2.551445e-04\n",
      "41        fuelsystem_spdi  2.165645e-04\n",
      "25           enginetype_l  1.891019e-04\n",
      "42        fuelsystem_spfi  1.198444e-04\n",
      "28        enginetype_ohcv  1.172379e-04\n",
      "27        enginetype_ohcf  1.048276e-04\n",
      "38         fuelsystem_idi  9.428540e-05\n",
      "14           fueltype_gas  6.586968e-05\n",
      "30    cylindernumber_five  6.546239e-05\n",
      "37        fuelsystem_4bbl  5.387600e-05\n",
      "39         fuelsystem_mfi  5.038566e-05\n",
      "29       enginetype_rotor  2.994782e-05\n",
      "24       enginetype_dohcv  2.564189e-05\n",
      "35     cylindernumber_two  1.261728e-05\n",
      "23    enginelocation_rear  1.253738e-05\n",
      "34  cylindernumber_twelve  5.433191e-07\n",
      "33   cylindernumber_three  0.000000e+00\n"
     ]
    }
   ],
   "source": [
    "# Perform feature importance analysis for the best performing model (if applicable)\n",
    "if hasattr(models[best_model_name], 'feature_importances_'):\n",
    "    feature_importances = models[best_model_name].feature_importances_\n",
    "    feature_names = X.columns\n",
    "    feature_importance_df = pd.DataFrame({'Feature': feature_names, 'Importance': feature_importances})\n",
    "    feature_importance_df = feature_importance_df.sort_values(by='Importance', ascending=False)\n",
    "    print(\"\\nFeature Importance Analysis:\")\n",
    "    print(feature_importance_df)"
   ]
  },
  {
   "cell_type": "markdown",
   "id": "5b0bab2f-224c-4a30-bbae-98bda5f79af1",
   "metadata": {},
   "source": [
    "### 5. **Hyperparameter Tuning**"
   ]
  },
  {
   "cell_type": "markdown",
   "id": "546add23-2433-4afe-9996-2fbb3c9e5f0d",
   "metadata": {},
   "source": [
    "● *Perform hyperparameter tuning and check whether the performance of the model has increased.*"
   ]
  },
  {
   "cell_type": "code",
   "execution_count": 35,
   "id": "d4c3b427-3a71-4bef-8f95-de771be8bb87",
   "metadata": {},
   "outputs": [
    {
     "name": "stdout",
     "output_type": "stream",
     "text": [
      "\n",
      "Best Hyperparameters for Random Forest Regressor: {'max_depth': None, 'min_samples_leaf': 1, 'min_samples_split': 2, 'n_estimators': 100}\n"
     ]
    }
   ],
   "source": [
    "from sklearn.model_selection import GridSearchCV\n",
    "\n",
    "# Define hyperparameter grids for the best performing model\n",
    "if best_model_name == 'Random Forest Regressor':\n",
    "    param_grid = {\n",
    "        'n_estimators': [100, 200],\n",
    "        'max_depth': [None, 10, 20],\n",
    "        'min_samples_split': [2, 5],\n",
    "        'min_samples_leaf': [1, 2]\n",
    "    }\n",
    "elif best_model_name == 'Gradient Boosting Regressor':\n",
    "    param_grid = {\n",
    "        'n_estimators': [100, 200],\n",
    "        'learning_rate': [0.01, 0.1],\n",
    "        'max_depth': [3, 5]\n",
    "    }\n",
    "elif best_model_name == 'Support Vector Regressor':\n",
    "    param_grid = {\n",
    "        'C': [0.1, 1],\n",
    "        'epsilon': [0.1, 0.2]\n",
    "    }\n",
    "else:\n",
    "    param_grid = {}\n",
    "\n",
    "# Perform hyperparameter tuning if applicable\n",
    "if param_grid:\n",
    "    grid_search = GridSearchCV(models[best_model_name], param_grid, cv=5)\n",
    "    grid_search.fit(X_train, y_train)\n",
    "    best_params = grid_search.best_params_\n",
    "    print(f\"\\nBest Hyperparameters for {best_model_name}: {best_params}\")\n",
    "else:\n",
    "    print(\"\\nHyperparameter tuning is not applicable for the best performing model.\")"
   ]
  },
  {
   "cell_type": "code",
   "execution_count": null,
   "id": "3f541c55-8508-45f3-983e-5d18c1cdbdc9",
   "metadata": {},
   "outputs": [],
   "source": []
  }
 ],
 "metadata": {
  "kernelspec": {
   "display_name": "Python 3 (ipykernel)",
   "language": "python",
   "name": "python3"
  },
  "language_info": {
   "codemirror_mode": {
    "name": "ipython",
    "version": 3
   },
   "file_extension": ".py",
   "mimetype": "text/x-python",
   "name": "python",
   "nbconvert_exporter": "python",
   "pygments_lexer": "ipython3",
   "version": "3.12.4"
  }
 },
 "nbformat": 4,
 "nbformat_minor": 5
}
